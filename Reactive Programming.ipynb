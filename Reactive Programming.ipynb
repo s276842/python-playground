{
 "cells": [
  {
   "cell_type": "markdown",
   "id": "9ad08334",
   "metadata": {},
   "source": [
    "# Reactive Programming\n",
    "\n",
    "Reactive programming describes a design paradigm that relies on asynchronous programming logic to handle real-time updates to otherwise static content. A reactive application must be;\n",
    "- **Responsive** takes action in a timely manner\n",
    "- **Resilient** can handle failures and keep working \n",
    "- **Elastic** The system stays responsive under varying workload\n",
    "- **Message Driven**  Reactive Systems rely on asynchronous message-passing\n",
    "\n",
    "## Observer Pattern\n",
    "The *Observer-Observable* pattern, which ensures that a group of objects gets alerted whenever another object's state changes.\n",
    "\n",
    "- **Observable** notifies other objects of a change in the state\n",
    "- **Observer** receive the notification and apply the suited work\n",
    "\n",
    ">To receive the notifications the Observer must *subscribe* to the Observable\n",
    "\n",
    "### Observables\n",
    "Based on their behaviour, Observables can be distinguished into:\n",
    "\n",
    "- *cold Observables*: they publish data only if at least one Observer is subscribed. The data is queued into a Data Stream (pull relation)\n",
    "- *hot Observables*: they publish data independenlty of the number of Observers. As soon as an Observer is subscribed, it will start to receive data (from that point on).\n",
    "\n",
    "> In the case of hot Observables data can be lost. This approach is typically used when data is irrilevant if not processed immediately\n",
    "\n",
    "## ReactiveX\n",
    "The most well-known implementation of the Reactive Programming paradigm is ReactiveX. It's built on the *Observer-Observable*.\n",
    "The implemented library for python is the RxPy.\n",
    "```\n",
    "import rx\n",
    "```\n",
    "\n",
    "An Observable can be created to publish data from static data and dynamic data sources\n",
    "\n",
    "```\n",
    "observable = rx.from_list([1,2,3,4,5])\n",
    "```\n",
    "\n",
    "An Observer can be *subscribed* using the `subscribe` method:\n",
    "```\n",
    "subscribe(observer=None, on_error=None, on_completed=None, on_next=None, *, scheduler=None)\n",
    "```\n",
    "- `observer` The object that is to receive notifications.\n",
    "- `on_error` Action to invoke upon exceptional termination of the observable sequence.\n",
    "- `on_completed` Action to invoke upon graceful termination of the observable sequence.\n",
    "- `on_next` Action to invoke for each element in the observable sequence.\n",
    "- `scheduler` The default scheduler to use for this subscription.\n"
   ]
  },
  {
   "cell_type": "code",
   "execution_count": 12,
   "id": "8cc3d925",
   "metadata": {},
   "outputs": [
    {
     "name": "stdout",
     "output_type": "stream",
     "text": [
      "(from lambda) Value received: 1\n",
      "(from lambda) Value received: 2\n",
      "(from lambda) Value received: 3\n",
      "(from lambda) Value received: 4\n",
      "(from lambda) Value received: 5\n",
      "(from method) Value received 1\n",
      "(from method) Value received 2\n",
      "(from method) Value received 3\n",
      "(from method) Value received 4\n",
      "(from method) Value received 5\n",
      "(from DataObserver) Value received 1\n",
      "(from DataObserver) Value received 2\n",
      "(from DataObserver) Value received 3\n",
      "(from DataObserver) Value received 4\n",
      "(from DataObserver) Value received 5\n",
      "(from DataObserver) Completed!\n"
     ]
    },
    {
     "data": {
      "text/plain": [
       "<rx.disposable.disposable.Disposable at 0x1f45ce1ec70>"
      ]
     },
     "execution_count": 12,
     "metadata": {},
     "output_type": "execute_result"
    }
   ],
   "source": [
    "import rx\n",
    "\n",
    "def print_(val):\n",
    "    print(f'(from method) Value received {val}\\n',end='')\n",
    "\n",
    "\n",
    "class DataObserver:\n",
    "    def on_next(self, value):\n",
    "        print(f'(from DataObserver) Value received {value}\\n',end='')\n",
    "    \n",
    "    def on_error(self, error):\n",
    "        print(f'(from DataObserver) Error {error}\\n',end='')\n",
    "    \n",
    "    def on_completed(self):\n",
    "        print(f'(from DataObserver) Completed!\\n',end='')\n",
    "\n",
    "\n",
    "observable = rx.from_list([1,2,3,4,5])\n",
    "# use lambda\n",
    "observable.subscribe(lambda val: print(f'(from lambda) Value received: {val}\\n', end=''))\n",
    "\n",
    "# use named function\n",
    "observable.subscribe(print_)\n",
    "\n",
    "# use Observable\n",
    "observable.subscribe(DataObserver())"
   ]
  },
  {
   "cell_type": "markdown",
   "id": "d9b6ce19",
   "metadata": {},
   "source": [
    "### Subjects\n",
    "A *subject* is both an Observable and an Observer. Typically it is used to gather data from a source, modify it and redirect to the final Observers. Moreover, note for example in the previous case how each observer is served uniquely by the Observable; the Subject on the contrary is able to serve all the subscribed Observable before the next data item is ready."
   ]
  },
  {
   "cell_type": "code",
   "execution_count": 23,
   "id": "70e66a3d",
   "metadata": {},
   "outputs": [
    {
     "name": "stdout",
     "output_type": "stream",
     "text": [
      "(from method) 10/20/2021, 19:28:18:918224 - Value received: 1\n",
      "(from lambda) 10/20/2021, 19:28:18:918224 - Value received: 1\n",
      "(from method) 10/20/2021, 19:28:19:932714 - Value received: 2\n",
      "(from lambda) 10/20/2021, 19:28:19:932714 - Value received: 2\n",
      "(from method) 10/20/2021, 19:28:20:942003 - Value received: 3\n",
      "(from lambda) 10/20/2021, 19:28:20:942003 - Value received: 3\n",
      "(from method) 10/20/2021, 19:28:21:946258 - Value received: 4\n",
      "(from lambda) 10/20/2021, 19:28:21:946258 - Value received: 4\n",
      "(from method) 10/20/2021, 19:28:22:953453 - Value received: 5\n",
      "(from lambda) 10/20/2021, 19:28:22:953453 - Value received: 5\n",
      "(from DataObserver) Completed!\n"
     ]
    },
    {
     "data": {
      "text/plain": [
       "<rx.disposable.disposable.Disposable at 0x1f45e7043a0>"
      ]
     },
     "execution_count": 23,
     "metadata": {},
     "output_type": "execute_result"
    }
   ],
   "source": [
    "import rx\n",
    "from rx.subject import Subject\n",
    "from datetime import datetime\n",
    "from time import sleep\n",
    "class TimeStampSubject(Subject):\n",
    "    def on_next(self, value):\n",
    "        now = datetime.now() # current date and time\n",
    "        sleep(1)\n",
    "        date_time = now.strftime(\"%m/%d/%Y, %H:%M:%S:%f\")\n",
    "        super().on_next((value, date_time))\n",
    "    \n",
    "    def on_error(self, error):\n",
    "        print(f'(from DataObserver) Error {error}\\n',end='')\n",
    "    \n",
    "    def on_completed(self):\n",
    "        print(f'(from DataObserver) Completed!\\n',end='')\n",
    "\n",
    "\n",
    "\n",
    "def print_(val):\n",
    "    val, date_time = val\n",
    "    print(f'(from method) {date_time} - Value received: {val}\\n',end='')\n",
    "\n",
    "\n",
    "\n",
    "observable = rx.from_list([1,2,3,4,5])\n",
    "\n",
    "subject = TimeStampSubject()\n",
    "subject.subscribe(print_)\n",
    "subject.subscribe(lambda val: print(f'(from lambda) {val[1]} - Value received: {val[0]}\\n', end=''))\n",
    "\n",
    "# The Observers are added to the subject before it is added to the Observable so that no data is lost\n",
    "observable.subscribe(subject)"
   ]
  },
  {
   "cell_type": "markdown",
   "id": "1e3a35c1",
   "metadata": {},
   "source": [
    "### Concurrency\n",
    "By default RxPy is single threaded. To do differently a scheduler must be provided when the subscribe method is called. There are different types of scheduler. From `rx.concurrency`: \n",
    "\n",
    "- ImmediateScheduler\n",
    "- CurrentThreadScheduler\n",
    "- TimeoutScheduler\n",
    "- NewThreadScheduler\n",
    "- ThreadPoolScheduler\n",
    "\n",
    "`rx.concurrency.mainloopscheduler` defines other schedulers:\n",
    "- `IOLoopScheduler`\n",
    "- `PyGameScheduler`\n",
    "- `WxScheduler`\n",
    "\n",
    "## operators\n",
    "It is possible to apply operators to the data stream. Operators are defined in the `rx.operators` module.\n",
    "```\n",
    "from rx import operators as op\n",
    "```\n",
    "To apply an operator it is necessary to create a pipe using the method `Observable.pipe()` and passing one or more operators.\n",
    "\n",
    "### Creational Operators\n",
    "Are used to cre"
   ]
  },
  {
   "cell_type": "code",
   "execution_count": null,
   "id": "f2dd3089",
   "metadata": {},
   "outputs": [],
   "source": []
  }
 ],
 "metadata": {
  "kernelspec": {
   "display_name": "Python 3",
   "language": "python",
   "name": "python3"
  },
  "language_info": {
   "codemirror_mode": {
    "name": "ipython",
    "version": 3
   },
   "file_extension": ".py",
   "mimetype": "text/x-python",
   "name": "python",
   "nbconvert_exporter": "python",
   "pygments_lexer": "ipython3",
   "version": "3.9.5"
  }
 },
 "nbformat": 4,
 "nbformat_minor": 5
}

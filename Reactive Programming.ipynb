{
 "cells": [
  {
   "cell_type": "markdown",
   "id": "9ad08334",
   "metadata": {},
   "source": [
    "# Reactive Programming\n",
    "\n",
    "Reactive programming describes a design paradigm that relies on asynchronous programming logic to handle real-time updates to otherwise static content. A reactive application must be;\n",
    "- **Responsive** takes action in a timely manner\n",
    "- **Resilient** can handle failures and keep working \n",
    "- **Elastic** The system stays responsive under varying workload\n",
    "- **Message Driven**  Reactive Systems rely on asynchronous message-passing\n",
    "\n",
    "## Observer Pattern\n",
    "The *Observer-Observable* pattern, which ensures that a group of objects gets alerted whenever another object's state changes.\n",
    "\n",
    "- **Observable** notifies other objects of a change in the state\n",
    "- **Observer** receive the notification and apply the suited work\n",
    "\n",
    ">To receive the notifications the Observer must *subscribe* to the Observable\n",
    "\n",
    "### Observables\n",
    "Based on their behaviour, Observables can be distinguished into:\n",
    "\n",
    "- *cold Observables*: they publish data only if at least one Observer is subscribed. The data is queued into a Data Stream (pull relation)\n",
    "- *hot Observables*: they publish data independenlty of the number of Observers. As soon as an Observer is subscribed, it will start to receive data (from that point on).\n",
    "\n",
    "> In the case of hot Observables data can be lost. This approach is typically used when data is irrilevant if not processed immediately\n",
    "\n",
    "## ReactiveX\n",
    "The most well-known implementation of the Reactive Programming paradigm is ReactiveX. It's built on the *Observer-Observable*.\n",
    "The implemented library for python is the RxPy.\n",
    "```\n",
    "import rx\n",
    "```\n",
    "\n",
    "An Observable can be created to publish data from static data and dynamic data sources\n",
    "\n",
    "```\n",
    "observable = rx.from_list([1,2,3,4,5])\n",
    "```\n",
    "\n",
    "An Observer can be *subscribed* using the `subscribe` method:\n",
    "```\n",
    "subscribe(observer=None, on_error=None, on_completed=None, on_next=None, *, scheduler=None)\n",
    "```\n",
    "- `observer` The object that is to receive notifications.\n",
    "- `on_error` Action to invoke upon exceptional termination of the observable sequence.\n",
    "- `on_completed` Action to invoke upon graceful termination of the observable sequence.\n",
    "- `on_next` Action to invoke for each element in the observable sequence.\n",
    "- `scheduler` The default scheduler to use for this subscription.\n"
   ]
  },
  {
   "cell_type": "code",
   "execution_count": 3,
   "id": "8cc3d925",
   "metadata": {},
   "outputs": [
    {
     "name": "stdout",
     "output_type": "stream",
     "text": [
      "(from lambda) Value received: 1\n",
      "(from lambda) Value received: 2\n",
      "(from lambda) Value received: 3\n",
      "(from lambda) Value received: 4\n",
      "(from lambda) Value received: 5\n",
      "(from method) Value received 1\n",
      "(from method) Value received 2\n",
      "(from method) Value received 3\n",
      "(from method) Value received 4\n",
      "(from method) Value received 5\n",
      "(from DataObserver) Value received 1\n",
      "(from DataObserver) Value received 2\n",
      "(from DataObserver) Value received 3\n",
      "(from DataObserver) Value received 4\n",
      "(from DataObserver) Value received 5\n",
      "(from DataObserver) Completed!\n"
     ]
    },
    {
     "data": {
      "text/plain": [
       "<rx.disposable.disposable.Disposable at 0x26619a5fb20>"
      ]
     },
     "execution_count": 3,
     "metadata": {},
     "output_type": "execute_result"
    }
   ],
   "source": [
    "import rx\n",
    "\n",
    "def print_(val):\n",
    "    print(f'(from method) Value received {val}\\n',end='')\n",
    "\n",
    "\n",
    "class DataObserver:\n",
    "    def on_next(self, value):\n",
    "        print(f'(from DataObserver) Value received {value}\\n',end='')\n",
    "    \n",
    "    def on_error(self, error):\n",
    "        print(f'(from DataObserver) Error {error}\\n',end='')\n",
    "    \n",
    "    def on_completed(self):\n",
    "        print(f'(from DataObserver) Completed!\\n',end='')\n",
    "\n",
    "\n",
    "observable = rx.from_list([1,2,3,4,5])\n",
    "# use lambda\n",
    "observable.subscribe(lambda val: print(f'(from lambda) Value received: {val}\\n', end=''))\n",
    "\n",
    "# use named function\n",
    "observable.subscribe(print_)\n",
    "\n",
    "# use Observable\n",
    "observable.subscribe(DataObserver())"
   ]
  },
  {
   "cell_type": "markdown",
   "id": "d9b6ce19",
   "metadata": {},
   "source": [
    "### Subjects\n",
    "A *subject* is both an Observable and an Observer. Typically it is used to gather data from a source, modify it and redirect to the final Observers. Moreover, note for example in the previous case how each observer is served uniquely by the Observable; the Subject on the contrary is able to serve all the subscribed Observable before the next data item is ready."
   ]
  },
  {
   "cell_type": "code",
   "execution_count": 23,
   "id": "70e66a3d",
   "metadata": {},
   "outputs": [
    {
     "name": "stdout",
     "output_type": "stream",
     "text": [
      "(from method) 10/20/2021, 19:28:18:918224 - Value received: 1\n",
      "(from lambda) 10/20/2021, 19:28:18:918224 - Value received: 1\n",
      "(from method) 10/20/2021, 19:28:19:932714 - Value received: 2\n",
      "(from lambda) 10/20/2021, 19:28:19:932714 - Value received: 2\n",
      "(from method) 10/20/2021, 19:28:20:942003 - Value received: 3\n",
      "(from lambda) 10/20/2021, 19:28:20:942003 - Value received: 3\n",
      "(from method) 10/20/2021, 19:28:21:946258 - Value received: 4\n",
      "(from lambda) 10/20/2021, 19:28:21:946258 - Value received: 4\n",
      "(from method) 10/20/2021, 19:28:22:953453 - Value received: 5\n",
      "(from lambda) 10/20/2021, 19:28:22:953453 - Value received: 5\n",
      "(from DataObserver) Completed!\n"
     ]
    },
    {
     "data": {
      "text/plain": [
       "<rx.disposable.disposable.Disposable at 0x1f45e7043a0>"
      ]
     },
     "execution_count": 23,
     "metadata": {},
     "output_type": "execute_result"
    }
   ],
   "source": [
    "import rx\n",
    "from rx.subject import Subject\n",
    "from datetime import datetime\n",
    "from time import sleep\n",
    "class TimeStampSubject(Subject):\n",
    "    def on_next(self, value):\n",
    "        now = datetime.now() # current date and time\n",
    "        sleep(1)\n",
    "        date_time = now.strftime(\"%m/%d/%Y, %H:%M:%S:%f\")\n",
    "        super().on_next((value, date_time))\n",
    "    \n",
    "    def on_error(self, error):\n",
    "        print(f'(from DataObserver) Error {error}\\n',end='')\n",
    "    \n",
    "    def on_completed(self):\n",
    "        print(f'(from DataObserver) Completed!\\n',end='')\n",
    "\n",
    "\n",
    "\n",
    "def print_(val):\n",
    "    val, date_time = val\n",
    "    print(f'(from method) {date_time} - Value received: {val}\\n',end='')\n",
    "\n",
    "\n",
    "\n",
    "observable = rx.from_list([1,2,3,4,5])\n",
    "\n",
    "subject = TimeStampSubject()\n",
    "subject.subscribe(print_)\n",
    "subject.subscribe(lambda val: print(f'(from lambda) {val[1]} - Value received: {val[0]}\\n', end=''))\n",
    "\n",
    "# The Observers are added to the subject before it is added to the Observable so that no data is lost\n",
    "observable.subscribe(subject)"
   ]
  },
  {
   "cell_type": "markdown",
   "id": "1e3a35c1",
   "metadata": {},
   "source": [
    "### Concurrency\n",
    "By default RxPy is single threaded. To do differently a scheduler must be provided when the subscribe method is called. There are different types of scheduler. From `rx.concurrency`: \n",
    "\n",
    "- ImmediateScheduler\n",
    "- CurrentThreadScheduler\n",
    "- TimeoutScheduler\n",
    "- NewThreadScheduler\n",
    "- ThreadPoolScheduler\n",
    "\n",
    "`rx.concurrency.mainloopscheduler` defines other schedulers:\n",
    "- `IOLoopScheduler`\n",
    "- `PyGameScheduler`\n",
    "- `WxScheduler`\n",
    "\n",
    "## operators\n",
    "It is possible to apply operators to the data stream. Operators are defined in the `rx.operators` module.\n",
    "```\n",
    "from rx import operators as op\n",
    "```\n",
    "To apply an operator it is necessary to create a pipe using the method `Observable.pipe()` and passing one or more operators.\n",
    "\n",
    "**Creating Observables**\n",
    "\n",
    "| Operator | Description |\n",
    "| :--- | :--- | \n",
    "| `create` | Create an Observable from scratch by calling observer methods programmatically. |\n",
    "| `empty` | Creates an Observable that emits no item and completes immediately.|\n",
    "| `never` | Creates an Observable that never completes.|\n",
    "| `throw` | Creates an Observable that terminates with an error.|\n",
    "| `from_` | Convert some other object or data structure into an Observable.|\n",
    "|`interval`| Create an Observable that emits a sequence of integers spaced by a particular time interval.|\n",
    "| `just` | Convert an object or a set of objects into an Observable that emits that object or those objects.|\n",
    "| `range`| Create an Observable that emits a range of sequential integers.|\n",
    "| `repeat_value` | Create an Observable that emits a particular item or sequence of items repeatedly.|\n",
    "| `start`| Create an Observable that emits the return value of a function.|\n",
    "| `timer`| Create an Observable that emits a single item after a given delay.|"
   ]
  },
  {
   "cell_type": "code",
   "execution_count": 1,
   "id": "419635ee",
   "metadata": {},
   "outputs": [
    {
     "data": {
      "text/plain": [
       "<rx.disposable.disposable.Disposable at 0x2c3a4ee9f70>"
      ]
     },
     "execution_count": 1,
     "metadata": {},
     "output_type": "execute_result"
    },
    {
     "name": "stdout",
     "output_type": "stream",
     "text": [
      "10/21/2021, 15:51:18 - 0\n",
      "10/21/2021, 15:51:19 - 1\n",
      "10/21/2021, 15:51:20 - 2\n",
      "10/21/2021, 15:51:21 - 3\n",
      "10/21/2021, 15:51:22 - 4\n",
      "10/21/2021, 15:51:23 - 5\n",
      "10/21/2021, 15:51:24 - 6\n"
     ]
    }
   ],
   "source": [
    "import rx\n",
    "from datetime import datetime\n",
    "from time import sleep\n",
    "res = rx.interval(1.0)\n",
    "res.subscribe(lambda val: print(f'{datetime.now().strftime(\"%m/%d/%Y, %H:%M:%S\")} - {val}\\n', end=''))"
   ]
  },
  {
   "cell_type": "markdown",
   "id": "cacddbc6",
   "metadata": {},
   "source": [
    "**Transforming Observables**\n",
    "\n",
    "| Operator | Description |\n",
    "| :--- | :--- | \n",
    "| `buffer` | Periodically gather items from an Observable into bundles and emit these bundles rather than emitting the items one at a time.|\n",
    "| `flat_map` | Transform the items emitted by an Observable into Observables, then flatten the emissions from those into a single Observable.|\n",
    "|`group_by` | Divide an Observable into a set of Observables that each emit a different group of items from the original Observable, organized by key.|\n",
    "| `map` |Transform the items emitted by an Observable by applying a function to each item.|\n",
    "|`scan` | Apply a function to each item emitted by an Observable, sequentially, and emit each successive value.|\n",
    "|`window` | Periodically subdivide items from an Observable into Observable windows and emit these windows rather than emitting the items one at a time.|"
   ]
  },
  {
   "cell_type": "code",
   "execution_count": 5,
   "id": "e4e6c87b",
   "metadata": {},
   "outputs": [
    {
     "name": "stdout",
     "output_type": "stream",
     "text": [
      "Hello\n",
      "world\n",
      "Reactive\n",
      "Programming\n",
      "is\n",
      "cool\n",
      "Computer\n",
      "science\n"
     ]
    },
    {
     "data": {
      "text/plain": [
       "<rx.disposable.disposable.Disposable at 0x2c3a5030a00>"
      ]
     },
     "execution_count": 5,
     "metadata": {},
     "output_type": "execute_result"
    },
    {
     "name": "stdout",
     "output_type": "stream",
     "text": [
      "10/21/2021, 15:57:04 - 342\n",
      "10/21/2021, 15:57:05 - 343\n",
      "10/21/2021, 15:57:06 - 344\n",
      "10/21/2021, 15:57:07 - 345\n",
      "10/21/2021, 15:57:08 - 346\n",
      "10/21/2021, 15:57:09 - 347\n",
      "10/21/2021, 15:57:10 - 348\n",
      "10/21/2021, 15:57:11 - 349\n",
      "10/21/2021, 15:57:12 - 350\n",
      "10/21/2021, 15:57:13 - 351\n",
      "10/21/2021, 15:57:14 - 352\n",
      "10/21/2021, 15:57:15 - 353\n"
     ]
    }
   ],
   "source": [
    "import rx\n",
    "import rx.operators as op\n",
    "\n",
    "sentences = ['Hello world', 'Reactive Programming is cool', 'Computer science']\n",
    "r = rx.from_(sentences)\n",
    "words = r.pipe(op.flat_map(lambda x: x.split()))\n",
    "\n",
    "words.subscribe(lambda word: print(word))"
   ]
  },
  {
   "cell_type": "markdown",
   "id": "ffd8c9b0",
   "metadata": {},
   "source": [
    "**Filtering Observables**\n",
    "\n",
    "| Operator | Description |\n",
    "| :--- | :--- | \n",
    "|`debounce`|Only emit an item from an Observable if a particular timespan has passed without it emitting another item.|\n",
    "|`distinct`|Suppress duplicate items emitted by an Observable.|\n",
    "|`element_at`|Emit only item n emitted by an Observable.|\n",
    "|`filter`|Emit only those items from an Observable that pass a predicate test.|\n",
    "|`first`|Emit only the first item, or the first item that meets a condition, from an Observable.|\n",
    "|`ignore_elements`|Do not emit any items from an Observable but mirror its termination notification.|\n",
    "|`last`|Emit only the last item emitted by an Observable.|\n",
    "|`sample`|Emit the most recent item emitted by an Observable within periodic time intervals.|\n",
    "|`skip`|Suppress the first n items emitted by an Observable.|\n",
    "|`skip_last`|Suppress the last n items emitted by an Observable.|\n",
    "|`take`|Emit only the first n items emitted by an Observable.|\n",
    "|`take_last`|Emit only the last n items emitted by an Observable.|"
   ]
  },
  {
   "cell_type": "markdown",
   "id": "c35c82f9",
   "metadata": {},
   "source": [
    "**Combining Observables**\n",
    "\n",
    "| Operator | Description |\n",
    "| :--- | :--- | \n",
    "|`combine_latest`|When an item is emitted by either of two Observables, combine the latest item emitted by each Observable via a specified function and emit items based on the results of this function.|\n",
    "|`join`|Combine items emitted by two Observables whenever an item from one Observable is emitted during a time window defined according to an item emitted by the other Observable.|\n",
    "|`merge`|Combine multiple Observables into one by merging their emissions.|\n",
    "|`start_with`|Emit a specified sequence of items before beginning to emit the items from the source Observable.|\n",
    "|`switch_latest`|Convert an Observable that emits Observables into a single Observable that emits the items emitted by the most-recently-emitted of those Observables.|\n",
    "|`zip`|Combine the emissions of multiple Observables together via a specified function and emit single items for each combination based on the results of this function.|\n",
    "|`fork_join`|Wait for Observables to complete and then combine last values they emitted into a tuple.|"
   ]
  },
  {
   "cell_type": "markdown",
   "id": "ef2258e2",
   "metadata": {},
   "source": [
    "**Error Handling**\n",
    "\n",
    "| Operator | Description |\n",
    "| :--- | :--- | \n",
    "|`catch`|Continues observable sequences which are terminated with an exception by switching over to the next observable sequence.|\n",
    "|`retry`|If a source Observable sends an onError notification, resubscribe to it in the hopes that it will complete without error.|"
   ]
  },
  {
   "cell_type": "markdown",
   "id": "1333abcc",
   "metadata": {},
   "source": [
    "**Utility Operators**\n",
    "\n",
    "| Operator | Description |\n",
    "| :--- | :--- | \n",
    "|`delay`|Shift the emissions from an Observable forward in time by a particular amount.|\n",
    "|`do`|Register an action to take upon a variety of Observable lifecycle events.|\n",
    "|`materialize`|Materializes the implicit notifications of an observable sequence as explicit notification values.|\n",
    "|`dematerialize`|Dematerializes the explicit notification values of an observable sequence as implicit notifications.|\n",
    "|`observe_on`|Specify the scheduler on which an observer will observe this Observable.|\n",
    "|`subscribe`|Operate upon the emissions and notifications from an Observable.|\n",
    "|`subscribe_on`|Specify the scheduler an Observable should use when it is subscribed to.|\n",
    "|`time_interval`|Convert an Observable that emits items into one that emits indications of the amount of time elapsed between those emissions.|\n",
    "|`timeout`|Mirror the source Observable, but issue an error notification if a particular period of time elapses without any emitted items.|\n",
    "|`timestamp`|Attach a timestamp to each item emitted by an Observable.|"
   ]
  },
  {
   "cell_type": "markdown",
   "id": "61cfb468",
   "metadata": {},
   "source": [
    "**Conditional and Boolean Operators**\n",
    "\n",
    "| Operator | Description |\n",
    "| :--- | :--- | \n",
    "|`all`|Determine whether all items emitted by an Observable meet some criteria.|\n",
    "|`amb`|Given two or more source Observables, emit all of the items from only the first of these Observables to emit an item.|\n",
    "|`contains`|Determine whether an Observable emits a particular item or not.|\n",
    "|`default_if_empty`|Emit items from the source Observable, or a default item if the source Observable emits nothing.|\n",
    "|`sequence_equal`|Determine whether two Observables emit the same sequence of items.|\n",
    "|`skip_until`|Discard items emitted by an Observable until a second Observable emits an item.|\n",
    "|`skip_while`|Discard items emitted by an Observable until a specified condition becomes false.|\n",
    "|`take_until`|Discard items emitted by an Observable after a second Observable emits an item or terminates.|\n",
    "|`take_whle`|Discard items emitted by an Observable after a specified condition becomes false.|"
   ]
  },
  {
   "cell_type": "markdown",
   "id": "28bacf39",
   "metadata": {},
   "source": [
    "**Mathematical and Aggregate Operators**\n",
    "\n",
    "| Operator | Description |\n",
    "| :--- | :--- | \n",
    "|`average`|Calculates the average of numbers emitted by an Observable and emits this average.|\n",
    "|`concat`|Emit the emissions from two or more Observables without interleaving them.|\n",
    "|`count`|Count the number of items emitted by the source Observable and emit only this value.|\n",
    "|`max`|Determine, and emit, the maximum-valued item emitted by an Observable.|\n",
    "|`min`|Determine, and emit, the minimum-valued item emitted by an Observable.|\n",
    "|`reduce`|Apply a function to each item emitted by an Observable, sequentially, and emit the final value.|\n",
    "|`sum`|Calculate the sum of numbers emitted by an Observable and emit this sum.|"
   ]
  },
  {
   "cell_type": "markdown",
   "id": "caf5cd28",
   "metadata": {},
   "source": [
    "**Connectable Observable Operators**\n",
    "\n",
    "| Operator | Description |\n",
    "| :--- | :--- | \n",
    "|`connect`|Instruct a connectable Observable to begin emitting items to its subscribers.|\n",
    "|`publish`|Convert an ordinary Observable into a connectable Observable.|\n",
    "|`ref_count`|Make a Connectable Observable behave like an ordinary Observable.|\n",
    "|`replay`|Ensure that all observers see the same sequence of emitted items, even if they subscribe after the Observable has begun emitting items.|"
   ]
  },
  {
   "cell_type": "code",
   "execution_count": 1,
   "id": "f2dd3089",
   "metadata": {},
   "outputs": [
    {
     "data": {
      "text/html": [
       "<style>\n",
       "table {float:left}\n",
       "</style>\n"
      ],
      "text/plain": [
       "<IPython.core.display.HTML object>"
      ]
     },
     "metadata": {},
     "output_type": "display_data"
    }
   ],
   "source": [
    "%%html\n",
    "<style>\n",
    "table {float:left}\n",
    "</style>"
   ]
  },
  {
   "cell_type": "code",
   "execution_count": null,
   "id": "5106b260",
   "metadata": {},
   "outputs": [],
   "source": []
  }
 ],
 "metadata": {
  "kernelspec": {
   "display_name": "Python 3",
   "language": "python",
   "name": "python3"
  },
  "language_info": {
   "codemirror_mode": {
    "name": "ipython",
    "version": 3
   },
   "file_extension": ".py",
   "mimetype": "text/x-python",
   "name": "python",
   "nbconvert_exporter": "python",
   "pygments_lexer": "ipython3",
   "version": "3.9.5"
  }
 },
 "nbformat": 4,
 "nbformat_minor": 5
}

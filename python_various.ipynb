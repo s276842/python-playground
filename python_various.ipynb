{
 "cells": [
  {
   "cell_type": "markdown",
   "id": "fourth-force",
   "metadata": {},
   "source": [
    "### Collections\n",
    "\n",
    "**Counter**: returns a dictionary of 'val':count"
   ]
  },
  {
   "cell_type": "code",
   "execution_count": null,
   "id": "matched-liability",
   "metadata": {},
   "outputs": [],
   "source": [
    "from collections import Counter\n",
    "\n",
    "s = 'bbaaaaaccc'\n",
    "counts = Counter(s)\n",
    "print(counts)\n",
    "print(counts.most_common(2))\n",
    "print(list(counts.elements()))"
   ]
  },
  {
   "cell_type": "markdown",
   "id": "amazing-earth",
   "metadata": {},
   "source": [
    "**nametuple**: define a tuple with named arguments"
   ]
  },
  {
   "cell_type": "code",
   "execution_count": null,
   "id": "expensive-arctic",
   "metadata": {},
   "outputs": [],
   "source": [
    "from collections import namedtuple\n",
    "\n",
    "Point = namedtuple('Point', 'x,y')\n",
    "\n",
    "p1 = Point(1, -2)\n",
    "\n",
    "print(p1)\n",
    "print(f\"x = {p1.x}, y = {p1.y}\")"
   ]
  },
  {
   "cell_type": "markdown",
   "id": "incorporated-reducing",
   "metadata": {},
   "source": [
    "**ordereddict**: keep the insertion order\n",
    "\n",
    "**defaultdict**: has a default value for elements not present in the dictionary\n",
    "\n",
    "**deque**: provides append and pop operations with O(1) time complexity"
   ]
  },
  {
   "cell_type": "code",
   "execution_count": null,
   "id": "emotional-report",
   "metadata": {},
   "outputs": [],
   "source": [
    "from collections import deque\n",
    "\n",
    "d = deque()\n",
    "d.append(1)\n",
    "d.append(2)\n",
    "print(d)\n",
    "\n",
    "d.appendleft(3)\n",
    "print(d)\n",
    "\n",
    "d.extend([4, 5])\n",
    "print(d)\n",
    "\n",
    "d.extendleft([6,7])\n",
    "print(d)\n",
    "\n",
    "d.rotate(2)\n",
    "print(d)"
   ]
  },
  {
   "cell_type": "markdown",
   "id": "hired-thomson",
   "metadata": {},
   "source": [
    "### Itertools\n",
    "\n",
    "**product**: compute the cartesian product between\n",
    "**permutations**: r-length tuples, all possible orderings, no repeated elements\n",
    "**combinations**: r-length tuples, in sorted order, no repeated elements"
   ]
  },
  {
   "cell_type": "code",
   "execution_count": null,
   "id": "hungry-router",
   "metadata": {},
   "outputs": [],
   "source": [
    "from itertools import product, permutations, combinations\n",
    "\n",
    "a = ['Rome', 'Paris', 'Berlin']\n",
    "b = ['Madrid', 'Lisbona']\n",
    "\n",
    "\n",
    "print(\"Product:\")\n",
    "print(list(product(a, b)))\n",
    "print('\\n')\n",
    "\n",
    "print(\"Permutation:\")\n",
    "for p in permutations(a, 3):\n",
    "    print(p)\n",
    "print('\\n')\n",
    "\n",
    "print(\"Combinations:\")\n",
    "print(list(combinations(a, 2)))\n",
    "print('\\n')"
   ]
  },
  {
   "cell_type": "code",
   "execution_count": null,
   "id": "blond-kitty",
   "metadata": {},
   "outputs": [],
   "source": [
    "from itertools import permutations\n",
    "a = ['Rome', 'Paris', 'Berlin']\n",
    "\n",
    "print(\"Permutation:\")\n",
    "for p in permutations(a, 3):\n",
    "    print(p)\n",
    "\n",
    "print(\"Combinations:\")\n",
    "for p in permutations(a, 3):\n",
    "    print(p)\n",
    "    "
   ]
  },
  {
   "cell_type": "code",
   "execution_count": null,
   "id": "injured-tiger",
   "metadata": {},
   "outputs": [],
   "source": [
    "from itertools import accumulate\n",
    "import operator\n",
    "\n",
    "a = [1, 2, 5, 3, 4, 7, 2, 5]\n",
    "acc_prod = accumulate(a, func = operator.mul)\n",
    "print(list(acc_prod))\n",
    "\n",
    "acc_max = accumulate(a, func = max)\n",
    "print(list(acc_max))"
   ]
  },
  {
   "cell_type": "markdown",
   "id": "australian-abortion",
   "metadata": {},
   "source": [
    "### logging\n",
    "\n",
    "python has a built-in logging. You can log to five different 'levels': \n",
    "- debug\n",
    "- info\n",
    "- warning\n",
    "- error\n",
    "- critical"
   ]
  },
  {
   "cell_type": "code",
   "execution_count": null,
   "id": "monetary-beauty",
   "metadata": {},
   "outputs": [],
   "source": [
    "import logging\n",
    "\n",
    "# setting logs\n",
    "logging.basicConfig(level=logging.DEBUG, \n",
    "            format='%(asctime)s - %(name)s - %(levelname)s - %(message)s',\n",
    "            datefmt='%m/%d/%Y %H:%M:%S')\n",
    "\n",
    "logging.debug('debug message')\n",
    "logging.info('info message')\n",
    "logging.warning('warning message')\n",
    "logging.error('error message')\n",
    "logging.critical('critical message')\n",
    "\n"
   ]
  },
  {
   "cell_type": "code",
   "execution_count": null,
   "id": "acting-behavior",
   "metadata": {},
   "outputs": [],
   "source": [
    "logger = logging.getLogger(__name__)  # generally use __name__\n",
    "logger.propagate = False\n",
    "logger.info(\"Hello I'm trying to log\")"
   ]
  },
  {
   "cell_type": "code",
   "execution_count": null,
   "id": "ultimate-dividend",
   "metadata": {},
   "outputs": [],
   "source": [
    "# create handlers\n",
    "stream_h = logging.StreamHandler()\n",
    "file_h = logging.FileHandler('file.log')\n",
    "\n",
    "# setup\n",
    "stream_h.setLevel(logging.ERROR)\n",
    "file_h.setLevel(logging.INFO)\n",
    "\n",
    "# set format\n",
    "formatter = logging.Formatter( '%(name)s - %(levelname)s - %(message)s')\n",
    "stream_h.setFormatter(formatter)\n",
    "file_h.setFormatter(formatter)\n",
    "\n",
    "# add handlers\n",
    "logger.addHandler(stream_h)\n",
    "logger.addHandler(file_h)\n",
    "\n",
    "# log\n",
    "for i in range(3):\n",
    "    try:\n",
    "        x = 10 / i\n",
    "        logger.info(f'res={x}')\n",
    "    except:\n",
    "        logger.error(\"Cannot divide by 0\")\n",
    "        \n",
    "    "
   ]
  },
  {
   "cell_type": "markdown",
   "id": "center-checklist",
   "metadata": {},
   "source": [
    "It is also possible to create a conf file for logging and then load as\n",
    "\n",
    "(look at https://docs.python.org/3/library/logging.config.html)"
   ]
  },
  {
   "cell_type": "code",
   "execution_count": null,
   "id": "international-chicago",
   "metadata": {},
   "outputs": [],
   "source": [
    "logging.config.fileConfig('logging.conf')"
   ]
  },
  {
   "cell_type": "markdown",
   "id": "functional-classics",
   "metadata": {},
   "source": [
    "### JSON"
   ]
  },
  {
   "cell_type": "code",
   "execution_count": null,
   "id": "excellent-zambia",
   "metadata": {},
   "outputs": [],
   "source": [
    "import json\n",
    "\n",
    "person = {\"name\":'John', 'age':30, 'city':'New York', 'titles':['engineer', 'programmer']}\n",
    "personJSON = json.dumps(person, indent=4)\n",
    "print(personJSON)"
   ]
  },
  {
   "cell_type": "code",
   "execution_count": null,
   "id": "norwegian-chest",
   "metadata": {},
   "outputs": [],
   "source": [
    "class User:\n",
    "    def __init__(self, name, age):\n",
    "        self.name = name\n",
    "        self.age = age\n",
    "        \n",
    "def encode_user(o):\n",
    "    \n",
    "    if isinstance(o, User):\n",
    "        return {'name':o.name, 'age':o.age}\n",
    "    else:\n",
    "        raise TypeError()\n",
    "    \n",
    "\n",
    "user = User('Max', 27)\n",
    "userJSON = json.dumps(user, default=encode_user)\n",
    "\n",
    "def decode_user(dct):\n",
    "    return User(**dct)\n",
    "\n",
    "user_restored = json.loads(userJSON, object_hook=decode_user)\n",
    "print(type(user_restored))\n",
    "print(user_restored.name)"
   ]
  },
  {
   "cell_type": "code",
   "execution_count": null,
   "id": "signal-watch",
   "metadata": {},
   "outputs": [],
   "source": [
    "user_restored"
   ]
  },
  {
   "cell_type": "markdown",
   "id": "spread-thumb",
   "metadata": {},
   "source": [
    "### Decorators\n",
    "\n",
    "Decorators allow to add addiotional functionality to a method. Decorators basically are functions that takes as input another function"
   ]
  },
  {
   "cell_type": "code",
   "execution_count": null,
   "id": "racial-customs",
   "metadata": {},
   "outputs": [],
   "source": [
    "import functools\n",
    "\n",
    "def start_end_decorator(func):\n",
    "    \n",
    "    @functools.wraps(func)\n",
    "    def wrapper(*args, **kwargs):\n",
    "        print('start')\n",
    "        res = func(*args, **kwargs)\n",
    "        print('end')\n",
    "        return res\n",
    "        \n",
    "    return wrapper\n",
    "\n",
    "@start_end_decorator\n",
    "def print_name(name):\n",
    "    print(name)\n",
    "    \n",
    "print_name('John')\n",
    "\n",
    "\n",
    "# what it do is:\n",
    "def printName(name):\n",
    "    print(name)\n",
    "\n",
    "start_end_decorator(printName)('John')\n"
   ]
  },
  {
   "cell_type": "markdown",
   "id": "needed-headline",
   "metadata": {},
   "source": [
    "You can also define *class* decorators. Tipically these are used when you need to keep/update a state"
   ]
  },
  {
   "cell_type": "code",
   "execution_count": null,
   "id": "suspected-greece",
   "metadata": {},
   "outputs": [],
   "source": [
    "class CountCalls():\n",
    "    \n",
    "    def __init__(self, func):\n",
    "        self.func = func\n",
    "        self.num_calls = 0\n",
    "    \n",
    "    def __call__(self, *args, **kwargs):\n",
    "        self.num_calls += 1\n",
    "        print(f'Call num [{self.num_calls}]:')\n",
    "        res =  self.func(*args, **kwargs)\n",
    "        print('\\n')\n",
    "        return res\n",
    "    \n",
    "@CountCalls\n",
    "def sayHello():\n",
    "    print('Hello, world!')\n",
    "    \n",
    "sayHello()\n",
    "sayHello()\n",
    "sayHello()"
   ]
  },
  {
   "cell_type": "markdown",
   "id": "exempt-ecology",
   "metadata": {},
   "source": [
    "### Generators\n",
    "A generator is a *lazy-iterator*. Are constructed through the use of keyword *yeld*. generators are very memory efficient."
   ]
  },
  {
   "cell_type": "code",
   "execution_count": null,
   "id": "boolean-happening",
   "metadata": {},
   "outputs": [],
   "source": [
    "def countdown(n):\n",
    "    print('Starting count:')\n",
    "    for i in range(n, -1, -1):\n",
    "        yield i\n",
    "\n",
    "        \n",
    "for v in countdown(3):\n",
    "    print(f'{v}s remaining')\n",
    "\n",
    "\n"
   ]
  },
  {
   "cell_type": "code",
   "execution_count": null,
   "id": "rental-seafood",
   "metadata": {},
   "outputs": [],
   "source": [
    "import time\n",
    "\n",
    "def firstn(n):\n",
    "    nums = []\n",
    "    num = 0\n",
    "    while num < n:\n",
    "        nums.append(num)\n",
    "        num += 1\n",
    "    return nums\n",
    "\n",
    "def firstn_gen(n):\n",
    "    num = 0\n",
    "    while num < n:\n",
    "        yield num\n",
    "        num += 1\n",
    "        \n",
    "\n",
    "start = time.time()\n",
    "for _ in range(1000):\n",
    "    s = sum(firstn(10000))\n",
    "print(f\"{time.time()- start}s for simple function\")\n",
    "\n",
    "start = time.time()\n",
    "for _ in range(1000):\n",
    "    s = sum(firstn_gen(10000))\n",
    "print(f\"{time.time()- start}s for generator (storing list)\")"
   ]
  },
  {
   "cell_type": "markdown",
   "id": "physical-dayton",
   "metadata": {},
   "source": [
    "###  Multi-processing"
   ]
  },
  {
   "cell_type": "code",
   "execution_count": null,
   "id": "antique-salvation",
   "metadata": {},
   "outputs": [],
   "source": [
    "from multiprocessing import Process\n",
    "import os\n",
    "\n",
    "def greet(name):\n",
    "    print(f'Hi {name}!')\n",
    "\n",
    "processes = []\n",
    "num_processes = os.cpu_count()\n",
    "\n",
    "# create processes\n",
    "for i in range(num_processes):\n",
    "    p = Process(target=greet, args=[\"John\"])\n",
    "    processes.append(p)\n",
    "\n",
    "# start\n",
    "for proc in processes:\n",
    "    proc.start()\n",
    "    \n",
    "# join (while watiting main is blocked)\n",
    "for proc in processes:\n",
    "    p.join()"
   ]
  },
  {
   "cell_type": "markdown",
   "id": "relative-failure",
   "metadata": {},
   "source": [
    "### Multi-Threading"
   ]
  },
  {
   "cell_type": "code",
   "execution_count": 2,
   "id": "satisfied-hello",
   "metadata": {},
   "outputs": [
    {
     "name": "stdout",
     "output_type": "stream",
     "text": [
      "Hi John!\n",
      "Hi John!\n",
      "Hi John!\n",
      "Hi John!\n",
      "Hi John!\n",
      "Hi John!\n",
      "Hi John!\n",
      "Hi John!\n",
      "Hi John!\n",
      "Hi John!\n"
     ]
    }
   ],
   "source": [
    "from threading import Thread\n",
    "import os\n",
    "\n",
    "def greet(name):\n",
    "    print(f'Hi {name}!')\n",
    "\n",
    "threads = []\n",
    "num_threads = 10\n",
    "\n",
    "# create processes\n",
    "for i in range(num_threads):\n",
    "    t = Thread(target=greet, args=[\"John\"])\n",
    "    threads.append(t)\n",
    "\n",
    "# start\n",
    "for thread in threads:\n",
    "    thread.start()\n",
    "    \n",
    "# join (while watiting main is blocked)\n",
    "for thread in threads:\n",
    "    thread.join()"
   ]
  },
  {
   "cell_type": "code",
   "execution_count": 3,
   "id": "finite-devil",
   "metadata": {},
   "outputs": [
    {
     "name": "stdout",
     "output_type": "stream",
     "text": [
      "starting with value = 0\n",
      "ending with value = 2\n"
     ]
    }
   ],
   "source": [
    "import time\n",
    "from threading import Lock\n",
    "\n",
    "database_value = 0\n",
    "\n",
    "def increase(lock):\n",
    "    global database_value\n",
    "    \n",
    "    with lock:\n",
    "        local_copy = database_value\n",
    "\n",
    "        #processing\n",
    "        local_copy += 1\n",
    "        time.sleep(0.1)\n",
    "\n",
    "        database_value = local_copy\n",
    "    \n",
    "    \n",
    "if __name__ == \"__main__\":\n",
    "    lock = Lock()\n",
    "    print(\"starting with value =\",database_value)\n",
    "    \n",
    "    th1 = Thread(target=increase, args=[lock])\n",
    "    th2 = Thread(target=increase, args=[lock])\n",
    "    \n",
    "    th1.start()\n",
    "    th2.start()\n",
    "    \n",
    "    th1.join()\n",
    "    th2.join()\n",
    "    \n",
    "    print(\"ending with value =\",database_value)"
   ]
  },
  {
   "cell_type": "markdown",
   "id": "rotary-indie",
   "metadata": {},
   "source": [
    "Using queues"
   ]
  },
  {
   "cell_type": "code",
   "execution_count": 8,
   "id": "adaptive-person",
   "metadata": {},
   "outputs": [
    {
     "name": "stdout",
     "output_type": "stream",
     "text": [
      "in th0 got 0\n",
      "in th1 got 1\n",
      "in th1 got 11\n",
      "in th1 got 12\n",
      "in th4 got 4\n",
      "in th5 got 5\n",
      "in th6 got 6\n",
      "in th7 got 7\n",
      "in th8 got 8\n",
      "in th9 got 9\n",
      "in th0 got 10\n",
      "in th2 got 2\n",
      "in th3 got 3\n",
      "in th1 got 13\n",
      "in th4 got 14\n",
      "in th5 got 15\n",
      "in th6 got 16\n",
      "in th7 got 17\n",
      "in th8 got 18\n",
      "in th9 got 19\n",
      "in th0 got 20\n",
      "in th2 got 21\n",
      "in th3 got 22\n",
      "in th1 got 23\n",
      "in th4 got 24\n",
      "in th5 got 25\n",
      "in th6 got 26\n",
      "in th7 got 27\n",
      "in th8 got 28\n",
      "in th9 got 29\n",
      "in th0 got 30\n",
      "in th2 got 31\n",
      "in th3 got 32\n",
      "in th1 got 33\n",
      "in th4 got 34\n",
      "in th5 got 35\n",
      "in th6 got 36\n",
      "in th7 got 37\n",
      "in th8 got 38\n",
      "in th9 got 39\n",
      "in th0 got 40\n",
      "in th2 got 41\n",
      "in th3 got 42\n",
      "in th1 got 43\n",
      "in th4 got 44\n",
      "in th5 got 45\n",
      "in th6 got 46\n",
      "in th7 got 47\n",
      "in th8 got 48\n",
      "in th9 got 49\n",
      "in th0 got 50\n",
      "in th2 got 51\n",
      "in th3 got 52\n",
      "in th1 got 53\n",
      "in th4 got 54\n",
      "in th5 got 55\n",
      "in th6 got 56\n",
      "in th7 got 57\n",
      "in th8 got 58\n",
      "in th9 got 59\n",
      "in th0 got 60\n",
      "in th2 got 61\n",
      "in th3 got 62\n",
      "in th1 got 63\n",
      "in th4 got 64\n",
      "in th5 got 65\n",
      "in th6 got 66\n",
      "in th7 got 67\n",
      "in th8 got 68\n",
      "in th9 got 69\n",
      "in th0 got 70\n",
      "in th2 got 71\n",
      "in th3 got 72\n",
      "in th1 got 73\n",
      "in th4 got 74\n",
      "in th5 got 75\n",
      "in th6 got 76\n",
      "in th7 got 77\n",
      "in th8 got 78\n",
      "in th9 got 79\n",
      "in th0 got 80\n",
      "in th2 got 81\n",
      "in th3 got 82\n",
      "in th1 got 83\n",
      "in th4 got 84\n",
      "in th5 got 85\n",
      "in th6 got 86\n",
      "in th7 got 87\n",
      "in th8 got 88\n",
      "in th9 got 89\n",
      "in th0 got 90\n",
      "in th2 got 91\n",
      "in th3 got 92\n",
      "in th1 got 93\n",
      "in th4 got 94\n",
      "in th5 got 95\n",
      "in th6 got 96\n",
      "in th7 got 97\n",
      "in th8 got 98\n",
      "in th9 got 99\n"
     ]
    }
   ],
   "source": [
    "from queue import Queue\n",
    "from threading import current_thread\n",
    "\n",
    "def worker(q, lock):\n",
    "    while True:\n",
    "        value = q.get()\n",
    "        \n",
    "        # processing\n",
    "        with lock:\n",
    "            print(f\"in {current_thread().name} got {value}\")\n",
    "        q.task_done()\n",
    "        \n",
    "\n",
    "if __name__ == \"__main__\":    \n",
    "    q = Queue()\n",
    "    lock = Lock()\n",
    "    num_threads = 10\n",
    "    \n",
    "    for i in range(num_threads):\n",
    "        thread = Thread(target = worker, args=(q,lock))\n",
    "        thread.name = f\"th{i}\"\n",
    "        thread.daemon = True\n",
    "        thread.start()\n",
    "        \n",
    "    for i in range(100):\n",
    "        q.put(i)\n",
    "        \n",
    "    q.join()"
   ]
  },
  {
   "cell_type": "code",
   "execution_count": null,
   "id": "funded-eligibility",
   "metadata": {},
   "outputs": [],
   "source": []
  }
 ],
 "metadata": {
  "kernelspec": {
   "display_name": "Python 3",
   "language": "python",
   "name": "python3"
  },
  "language_info": {
   "codemirror_mode": {
    "name": "ipython",
    "version": 3
   },
   "file_extension": ".py",
   "mimetype": "text/x-python",
   "name": "python",
   "nbconvert_exporter": "python",
   "pygments_lexer": "ipython3",
   "version": "3.9.2"
  }
 },
 "nbformat": 4,
 "nbformat_minor": 5
}

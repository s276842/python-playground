{
 "cells": [
  {
   "cell_type": "markdown",
   "id": "fourth-force",
   "metadata": {},
   "source": [
    "### Collections\n",
    "\n",
    "**Counter**: returns a dictionary of 'val':count"
   ]
  },
  {
   "cell_type": "code",
   "execution_count": 1,
   "id": "matched-liability",
   "metadata": {},
   "outputs": [
    {
     "name": "stdout",
     "output_type": "stream",
     "text": [
      "Counter({'a': 5, 'c': 3, 'b': 2})\n",
      "[('a', 5), ('c', 3)]\n",
      "['b', 'b', 'a', 'a', 'a', 'a', 'a', 'c', 'c', 'c']\n"
     ]
    }
   ],
   "source": [
    "from collections import Counter\n",
    "\n",
    "s = 'bbaaaaaccc'\n",
    "counts = Counter(s)\n",
    "print(counts)\n",
    "print(counts.most_common(2))\n",
    "print(list(counts.elements()))"
   ]
  },
  {
   "cell_type": "markdown",
   "id": "amazing-earth",
   "metadata": {},
   "source": [
    "**nametuple**: define a tuple with named arguments"
   ]
  },
  {
   "cell_type": "code",
   "execution_count": 2,
   "id": "expensive-arctic",
   "metadata": {},
   "outputs": [
    {
     "name": "stdout",
     "output_type": "stream",
     "text": [
      "Point(x=1, y=-2)\n",
      "x = 1, y = -2\n"
     ]
    }
   ],
   "source": [
    "from collections import namedtuple\n",
    "\n",
    "Point = namedtuple('Point', 'x,y')\n",
    "\n",
    "p1 = Point(1, -2)\n",
    "\n",
    "print(p1)\n",
    "print(f\"x = {p1.x}, y = {p1.y}\")"
   ]
  },
  {
   "cell_type": "markdown",
   "id": "incorporated-reducing",
   "metadata": {},
   "source": [
    "**ordereddict**: keep the insertion order\n",
    "\n",
    "**defaultdict**: has a default value for elements not present in the dictionary\n",
    "\n",
    "**deque**: provides append and pop operations with O(1) time complexity"
   ]
  },
  {
   "cell_type": "code",
   "execution_count": 3,
   "id": "emotional-report",
   "metadata": {},
   "outputs": [
    {
     "name": "stdout",
     "output_type": "stream",
     "text": [
      "deque([1, 2])\n",
      "deque([3, 1, 2])\n",
      "deque([3, 1, 2, 4, 5])\n",
      "deque([7, 6, 3, 1, 2, 4, 5])\n",
      "deque([4, 5, 7, 6, 3, 1, 2])\n"
     ]
    }
   ],
   "source": [
    "from collections import deque\n",
    "\n",
    "d = deque()\n",
    "d.append(1)\n",
    "d.append(2)\n",
    "print(d)\n",
    "\n",
    "d.appendleft(3)\n",
    "print(d)\n",
    "\n",
    "d.extend([4, 5])\n",
    "print(d)\n",
    "\n",
    "d.extendleft([6,7])\n",
    "print(d)\n",
    "\n",
    "d.rotate(2)\n",
    "print(d)"
   ]
  },
  {
   "cell_type": "markdown",
   "id": "hired-thomson",
   "metadata": {},
   "source": [
    "### Itertools\n",
    "\n",
    "**product**: compute the cartesian product between\n",
    "**permutations**: r-length tuples, all possible orderings, no repeated elements\n",
    "**combinations**: r-length tuples, in sorted order, no repeated elements"
   ]
  },
  {
   "cell_type": "code",
   "execution_count": 4,
   "id": "hungry-router",
   "metadata": {},
   "outputs": [
    {
     "name": "stdout",
     "output_type": "stream",
     "text": [
      "Product:\n",
      "[('Rome', 'Madrid'), ('Rome', 'Lisbona'), ('Paris', 'Madrid'), ('Paris', 'Lisbona'), ('Berlin', 'Madrid'), ('Berlin', 'Lisbona')]\n",
      "\n",
      "\n",
      "Permutation:\n",
      "('Rome', 'Paris', 'Berlin')\n",
      "('Rome', 'Berlin', 'Paris')\n",
      "('Paris', 'Rome', 'Berlin')\n",
      "('Paris', 'Berlin', 'Rome')\n",
      "('Berlin', 'Rome', 'Paris')\n",
      "('Berlin', 'Paris', 'Rome')\n",
      "\n",
      "\n",
      "Combinations:\n",
      "[('Rome', 'Paris'), ('Rome', 'Berlin'), ('Paris', 'Berlin')]\n",
      "\n",
      "\n"
     ]
    }
   ],
   "source": [
    "from itertools import product, permutations, combinations\n",
    "\n",
    "a = ['Rome', 'Paris', 'Berlin']\n",
    "b = ['Madrid', 'Lisbona']\n",
    "\n",
    "\n",
    "print(\"Product:\")\n",
    "print(list(product(a, b)))\n",
    "print('\\n')\n",
    "\n",
    "print(\"Permutation:\")\n",
    "for p in permutations(a, 3):\n",
    "    print(p)\n",
    "print('\\n')\n",
    "\n",
    "print(\"Combinations:\")\n",
    "print(list(combinations(a, 2)))\n",
    "print('\\n')"
   ]
  },
  {
   "cell_type": "code",
   "execution_count": 5,
   "id": "blond-kitty",
   "metadata": {},
   "outputs": [
    {
     "name": "stdout",
     "output_type": "stream",
     "text": [
      "Permutation:\n",
      "('Rome', 'Paris', 'Berlin')\n",
      "('Rome', 'Berlin', 'Paris')\n",
      "('Paris', 'Rome', 'Berlin')\n",
      "('Paris', 'Berlin', 'Rome')\n",
      "('Berlin', 'Rome', 'Paris')\n",
      "('Berlin', 'Paris', 'Rome')\n",
      "Combinations:\n",
      "('Rome', 'Paris', 'Berlin')\n",
      "('Rome', 'Berlin', 'Paris')\n",
      "('Paris', 'Rome', 'Berlin')\n",
      "('Paris', 'Berlin', 'Rome')\n",
      "('Berlin', 'Rome', 'Paris')\n",
      "('Berlin', 'Paris', 'Rome')\n"
     ]
    }
   ],
   "source": [
    "from itertools import permutations\n",
    "a = ['Rome', 'Paris', 'Berlin']\n",
    "\n",
    "print(\"Permutation:\")\n",
    "for p in permutations(a, 3):\n",
    "    print(p)\n",
    "\n",
    "print(\"Combinations:\")\n",
    "for p in permutations(a, 3):\n",
    "    print(p)\n",
    "    "
   ]
  },
  {
   "cell_type": "code",
   "execution_count": 6,
   "id": "injured-tiger",
   "metadata": {},
   "outputs": [
    {
     "name": "stdout",
     "output_type": "stream",
     "text": [
      "[1, 2, 10, 30, 120, 840, 1680, 8400]\n",
      "[1, 2, 5, 5, 5, 7, 7, 7]\n"
     ]
    }
   ],
   "source": [
    "from itertools import accumulate\n",
    "import operator\n",
    "\n",
    "a = [1, 2, 5, 3, 4, 7, 2, 5]\n",
    "acc_prod = accumulate(a, func = operator.mul)\n",
    "print(list(acc_prod))\n",
    "\n",
    "acc_max = accumulate(a, func = max)\n",
    "print(list(acc_max))"
   ]
  },
  {
   "cell_type": "markdown",
   "id": "australian-abortion",
   "metadata": {},
   "source": [
    "### logging\n",
    "\n",
    "python has a built-in logging. You can log to five different 'levels': \n",
    "- debug\n",
    "- info\n",
    "- warning\n",
    "- error\n",
    "- critical"
   ]
  },
  {
   "cell_type": "code",
   "execution_count": 11,
   "id": "monetary-beauty",
   "metadata": {},
   "outputs": [
    {
     "name": "stderr",
     "output_type": "stream",
     "text": [
      "04/29/2021 17:01:29 - root - DEBUG - debug message\n",
      "04/29/2021 17:01:29 - root - INFO - info message\n",
      "04/29/2021 17:01:29 - root - WARNING - warning message\n",
      "04/29/2021 17:01:29 - root - ERROR - error message\n",
      "04/29/2021 17:01:29 - root - CRITICAL - critical message\n"
     ]
    }
   ],
   "source": [
    "import logging\n",
    "\n",
    "# setting logs\n",
    "logging.basicConfig(level=logging.DEBUG, \n",
    "            format='%(asctime)s - %(name)s - %(levelname)s - %(message)s',\n",
    "            datefmt='%m/%d/%Y %H:%M:%S')\n",
    "\n",
    "logging.debug('debug message')\n",
    "logging.info('info message')\n",
    "logging.warning('warning message')\n",
    "logging.error('error message')\n",
    "logging.critical('critical message')\n",
    "\n"
   ]
  },
  {
   "cell_type": "code",
   "execution_count": 12,
   "id": "acting-behavior",
   "metadata": {},
   "outputs": [],
   "source": [
    "logger = logging.getLogger(__name__)  # generally use __name__\n",
    "logger.propagate = False\n",
    "logger.info(\"Hello I'm trying to log\")"
   ]
  },
  {
   "cell_type": "code",
   "execution_count": 13,
   "id": "ultimate-dividend",
   "metadata": {},
   "outputs": [
    {
     "name": "stderr",
     "output_type": "stream",
     "text": [
      "__main__ - ERROR - Cannot divide by 0\n",
      "__main__ - ERROR - Cannot divide by 0\n"
     ]
    }
   ],
   "source": [
    "# create handlers\n",
    "stream_h = logging.StreamHandler()\n",
    "file_h = logging.FileHandler('file.log')\n",
    "\n",
    "# setup\n",
    "stream_h.setLevel(logging.ERROR)\n",
    "file_h.setLevel(logging.INFO)\n",
    "\n",
    "# set format\n",
    "formatter = logging.Formatter( '%(name)s - %(levelname)s - %(message)s')\n",
    "stream_h.setFormatter(formatter)\n",
    "file_h.setFormatter(formatter)\n",
    "\n",
    "# add handlers\n",
    "logger.addHandler(stream_h)\n",
    "logger.addHandler(file_h)\n",
    "\n",
    "# log\n",
    "for i in range(3):\n",
    "    try:\n",
    "        x = 10 / i\n",
    "        logger.info(f'res={x}')\n",
    "    except:\n",
    "        logger.error(\"Cannot divide by 0\")\n",
    "        \n",
    "    "
   ]
  },
  {
   "cell_type": "markdown",
   "id": "center-checklist",
   "metadata": {},
   "source": [
    "It is also possible to create a conf file for logging and then load as\n",
    "\n",
    "(look at https://docs.python.org/3/library/logging.config.html)"
   ]
  },
  {
   "cell_type": "code",
   "execution_count": 14,
   "id": "international-chicago",
   "metadata": {},
   "outputs": [
    {
     "ename": "AttributeError",
     "evalue": "module 'logging' has no attribute 'config'",
     "output_type": "error",
     "traceback": [
      "\u001b[1;31m---------------------------------------------------------------------------\u001b[0m",
      "\u001b[1;31mAttributeError\u001b[0m                            Traceback (most recent call last)",
      "\u001b[1;32m<ipython-input-14-4059ef3b5a51>\u001b[0m in \u001b[0;36m<module>\u001b[1;34m\u001b[0m\n\u001b[1;32m----> 1\u001b[1;33m \u001b[0mlogging\u001b[0m\u001b[1;33m.\u001b[0m\u001b[0mconfig\u001b[0m\u001b[1;33m.\u001b[0m\u001b[0mfileConfig\u001b[0m\u001b[1;33m(\u001b[0m\u001b[1;34m'logging.conf'\u001b[0m\u001b[1;33m)\u001b[0m\u001b[1;33m\u001b[0m\u001b[1;33m\u001b[0m\u001b[0m\n\u001b[0m",
      "\u001b[1;31mAttributeError\u001b[0m: module 'logging' has no attribute 'config'"
     ]
    }
   ],
   "source": [
    "logging.config.fileConfig('logging.conf')"
   ]
  },
  {
   "cell_type": "markdown",
   "id": "functional-classics",
   "metadata": {},
   "source": [
    "### JSON"
   ]
  },
  {
   "cell_type": "code",
   "execution_count": 19,
   "id": "excellent-zambia",
   "metadata": {},
   "outputs": [
    {
     "name": "stdout",
     "output_type": "stream",
     "text": [
      "{\n",
      "    \"name\": \"John\",\n",
      "    \"age\": 30,\n",
      "    \"city\": \"New York\",\n",
      "    \"titles\": [\n",
      "        \"engineer\",\n",
      "        \"programmer\"\n",
      "    ]\n",
      "}\n"
     ]
    }
   ],
   "source": [
    "import json\n",
    "\n",
    "person = {\"name\":'John', 'age':30, 'city':'New York', 'titles':['engineer', 'programmer']}\n",
    "personJSON = json.dumps(person, indent=4)\n",
    "print(personJSON)"
   ]
  },
  {
   "cell_type": "code",
   "execution_count": 25,
   "id": "norwegian-chest",
   "metadata": {},
   "outputs": [
    {
     "name": "stdout",
     "output_type": "stream",
     "text": [
      "<class '__main__.User'>\n",
      "Max\n"
     ]
    }
   ],
   "source": [
    "class User:\n",
    "    def __init__(self, name, age):\n",
    "        self.name = name\n",
    "        self.age = age\n",
    "        \n",
    "def encode_user(o):\n",
    "    \n",
    "    if isinstance(o, User):\n",
    "        return {'name':o.name, 'age':o.age}\n",
    "    else:\n",
    "        raise TypeError()\n",
    "    \n",
    "\n",
    "user = User('Max', 27)\n",
    "userJSON = json.dumps(user, default=encode_user)\n",
    "\n",
    "def decode_user(dct):\n",
    "    return User(**dct)\n",
    "\n",
    "user_restored = json.loads(userJSON, object_hook=decode_user)\n",
    "print(type(user_restored))\n",
    "print(user_restored.name)"
   ]
  },
  {
   "cell_type": "code",
   "execution_count": 24,
   "id": "signal-watch",
   "metadata": {},
   "outputs": [
    {
     "data": {
      "text/plain": [
       "<__main__.User at 0x25b9f1fad30>"
      ]
     },
     "execution_count": 24,
     "metadata": {},
     "output_type": "execute_result"
    }
   ],
   "source": [
    "user_restored"
   ]
  },
  {
   "cell_type": "markdown",
   "id": "spread-thumb",
   "metadata": {},
   "source": [
    "### Decorators\n",
    "\n",
    "Decorators allow to add addiotional functionality to a method. Decorators basically are functions that takes as input another function"
   ]
  },
  {
   "cell_type": "code",
   "execution_count": 43,
   "id": "racial-customs",
   "metadata": {},
   "outputs": [
    {
     "name": "stdout",
     "output_type": "stream",
     "text": [
      "start\n",
      "John\n",
      "end\n",
      "start\n",
      "John\n",
      "end\n"
     ]
    }
   ],
   "source": [
    "import functools\n",
    "\n",
    "def start_end_decorator(func):\n",
    "    \n",
    "    @functools.wraps(func)\n",
    "    def wrapper(*args, **kwargs):\n",
    "        print('start')\n",
    "        res = func(*args, **kwargs)\n",
    "        print('end')\n",
    "        return res\n",
    "        \n",
    "    return wrapper\n",
    "\n",
    "@start_end_decorator\n",
    "def print_name(name):\n",
    "    print(name)\n",
    "    \n",
    "print_name('John')\n",
    "\n",
    "\n",
    "# what it do is:\n",
    "def prova(name):\n",
    "    print(name)\n",
    "\n",
    "start_end_decorator(prova)('John')\n"
   ]
  },
  {
   "cell_type": "markdown",
   "id": "needed-headline",
   "metadata": {},
   "source": [
    "You can also define *class* decorators. Tipically these are used when you need to keep/update a state"
   ]
  },
  {
   "cell_type": "code",
   "execution_count": 48,
   "id": "suspected-greece",
   "metadata": {},
   "outputs": [
    {
     "name": "stdout",
     "output_type": "stream",
     "text": [
      "Call num [1]:\n",
      "Hello, world!\n",
      "\n",
      "\n",
      "Call num [2]:\n",
      "Hello, world!\n",
      "\n",
      "\n",
      "Call num [3]:\n",
      "Hello, world!\n",
      "\n",
      "\n"
     ]
    }
   ],
   "source": [
    "class CountCalls():\n",
    "    \n",
    "    def __init__(self, func):\n",
    "        self.func = func\n",
    "        self.num_calls = 0\n",
    "    \n",
    "    def __call__(self, *args, **kwargs):\n",
    "        self.num_calls += 1\n",
    "        print(f'Call num [{self.num_calls}]:')\n",
    "        res =  self.func(*args, **kwargs)\n",
    "        print('\\n')\n",
    "        return res\n",
    "    \n",
    "@CountCalls\n",
    "def sayHello():\n",
    "    print('Hello, world!')\n",
    "    \n",
    "sayHello()\n",
    "sayHello()\n",
    "sayHello()"
   ]
  },
  {
   "cell_type": "code",
   "execution_count": null,
   "id": "detected-soldier",
   "metadata": {},
   "outputs": [],
   "source": []
  }
 ],
 "metadata": {
  "kernelspec": {
   "display_name": "Python 3",
   "language": "python",
   "name": "python3"
  },
  "language_info": {
   "codemirror_mode": {
    "name": "ipython",
    "version": 3
   },
   "file_extension": ".py",
   "mimetype": "text/x-python",
   "name": "python",
   "nbconvert_exporter": "python",
   "pygments_lexer": "ipython3",
   "version": "3.9.2"
  }
 },
 "nbformat": 4,
 "nbformat_minor": 5
}
